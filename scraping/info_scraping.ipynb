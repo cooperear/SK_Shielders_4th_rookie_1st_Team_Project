{
 "cells": [
  {
   "cell_type": "code",
   "execution_count": 3,
   "id": "ffeb4e2c",
   "metadata": {},
   "outputs": [],
   "source": [
    "import requests\n",
    "import bs4\n",
    "from bs4 import BeautifulSoup"
   ]
  },
  {
   "cell_type": "code",
   "execution_count": 40,
   "id": "d85c72ce",
   "metadata": {},
   "outputs": [
    {
     "name": "stdout",
     "output_type": "stream",
     "text": [
      "https://www.animals.or.kr//file/img?key=board/image/354cc6d8-3383-4755-8abc-6c3e5cc00907.png\n"
     ]
    }
   ],
   "source": [
    "#동물자유연대 입양 절차 \n",
    "import json\n",
    "from pprint import pprint\n",
    "\n",
    "url= 'https://www.animals.or.kr/center/adopt/5173'\n",
    "base_img_url='https://www.animals.or.kr/'\n",
    "# print(type(base_url))\n",
    "\n",
    "req_header = {\n",
    "    \"user-agent\": \"Mozilla/5.0 (Windows NT 10.0; Win64; x64) AppleWebKit/537.36 (KHTML, like Gecko) Chrome/138.0.0.0 Safari/537.36\"\n",
    "}\n",
    "\n",
    "aniaml_info_list = []    \n",
    "\n",
    "res = requests.get(url, headers=req_header)\n",
    "\n",
    "if res.ok:\n",
    "    animal_info_dict = dict() \n",
    "    soup = BeautifulSoup(res.text, \"html.parser\")\n",
    "\n",
    "    #이미지 \n",
    "    img = soup.select_one('div.바탕글 img[src]')\n",
    "    full_img = base_img_url + img.get('src')\n",
    "    animal_info_dict[\"이미지\"] = full_img\n",
    "    # print(full_img)\n",
    "\n",
    "    #입양 상담소 및 전화번호 추출 \n",
    "    info_spans = soup.select('div.바탕글 span')\n",
    "    info_texts = [span.get_text(strip=True) for span in info_spans if span.get_text(strip=True)]\n",
    "\n",
    "    for text in info_texts:\n",
    "        if '입양신청' in text:\n",
    "            animal_info_dict['입양상담'] = text\n",
    "        elif '02-' in text:\n",
    "            animal_info_dict['전화번호'] = text\n",
    "    \n",
    "    # 요구사항 \n",
    "    QnA_list = []\n",
    "    check = set()\n",
    "    contents = soup.select('div.바탕글') \n",
    "    for content in contents:\n",
    "        ps = content.find_all('p')\n",
    "        i = 0\n",
    "        while i < len(ps) - 1:\n",
    "            b_tag = ps[i].find('b')\n",
    "            if b_tag:\n",
    "                question = b_tag.get_text(strip=True)\n",
    "                answer = ps[i+1].get_text(strip=True)\n",
    "                if '인내심' in question or '비용' in question or '시기' in question or '책임감' in question or '평생' in question:\n",
    "                    combo = question + answer\n",
    "                    if combo not in check:\n",
    "                        QnA_list.append({'Q': question, 'A': answer})\n",
    "                        check.add(combo)\n",
    "            i += 1  \n",
    "\n",
    "    animal_info_dict['입양Q&A'] = QnA_list \n",
    "\n",
    "    #사이트링크\n",
    "    animal_info_dict[\"사이트링크\"] = url\n",
    "\n",
    "    aniaml_info_list.append(animal_info_dict)\n",
    "\n",
    "else:\n",
    "    print(f\"요청 실패: {res.status_code}\")\n",
    "\n",
    "print(full_img)"
   ]
  },
  {
   "cell_type": "code",
   "execution_count": 41,
   "id": "66e0fcdc",
   "metadata": {},
   "outputs": [],
   "source": [
    "with open('동물자유연대입양절차.json', 'w', encoding='utf-8') as f:\n",
    "    json.dump(aniaml_info_list, f, ensure_ascii=False, indent=2)"
   ]
  },
  {
   "cell_type": "code",
   "execution_count": 4,
   "id": "9a5b5cc7",
   "metadata": {},
   "outputs": [
    {
     "name": "stdout",
     "output_type": "stream",
     "text": [
      "https://ekara.org/kams/adopt?status=%EC%9E%85%EC%96%91%EA%B0%80%EB%8A%A5\n"
     ]
    }
   ],
   "source": [
    "#카라 입양 절차 \n",
    "import json\n",
    "from pprint import pprint\n",
    "\n",
    "url= 'https://ekara.org/kams/adopt?status=%EC%9E%85%EC%96%91%EA%B0%80%EB%8A%A5'\n",
    "\n",
    "req_header = {\n",
    "    \"user-agent\": \"Mozilla/5.0 (Windows NT 10.0; Win64; x64) AppleWebKit/537.36 (KHTML, like Gecko) Chrome/138.0.0.0 Safari/537.36\"\n",
    "}\n",
    "\n",
    "kara_info_list = []    \n",
    "\n",
    "res = requests.get(url, headers=req_header)\n",
    "\n",
    "if res.ok:\n",
    "    kara_info_dict = dict() \n",
    "    soup = BeautifulSoup(res.text, \"html.parser\")\n",
    "\n",
    "    # 입양절차과정\n",
    "    button_texts = {}\n",
    "    num = 1 \n",
    "    buttons = soup.select('button.btn')  #\n",
    "    for btn in buttons:\n",
    "        text = btn.text.strip()\n",
    "        if text not in ['','검색', '동물 상세검색']:\n",
    "            button_texts[num] = text\n",
    "            num += 1\n",
    "\n",
    "    kara_info_dict['입양절차'] = button_texts\n",
    "    \n",
    "    #공지사항\n",
    "    br_tags = soup.select_one('div.g-pt-30 p.text-center.g-mb-30')\n",
    "    p_text = br_tags.get_text(separator=' ', strip=True)\n",
    "    kara_info_dict['공지사항'] = p_text\n",
    "\n",
    "    #신청 전 공지사항 \n",
    "    notice_list = []\n",
    "    info_tags = soup.select('div.g-pa-20.g-bg-white ul.g-pl-20 li')\n",
    "    for li in info_tags:\n",
    "        text = li.text.strip()\n",
    "        notice_list.append(text)\n",
    "\n",
    "    kara_info_dict['입양 전 확인사항'] = notice_list\n",
    "\n",
    "    #사이트링크\n",
    "    kara_info_dict[\"사이트링크\"] = url\n",
    "\n",
    "    kara_info_list.append(kara_info_dict)\n",
    "\n",
    "else:\n",
    "    print(f\"요청 실패: {res.status_code}\")\n",
    "\n",
    "print(url)"
   ]
  },
  {
   "cell_type": "code",
   "execution_count": 5,
   "id": "9210544f",
   "metadata": {},
   "outputs": [],
   "source": [
    "with open('KARA입양절차.json', 'w', encoding='utf-8') as f:\n",
    "    json.dump(kara_info_list, f, ensure_ascii=False, indent=2)"
   ]
  },
  {
   "cell_type": "code",
   "execution_count": 16,
   "id": "de108e82",
   "metadata": {},
   "outputs": [
    {
     "name": "stdout",
     "output_type": "stream",
     "text": [
      "https://www.haeundae.go.kr/pet/?param=adoptionnews&tab=2\n"
     ]
    }
   ],
   "source": [
    "#해운대구 유기동물입양센터 입양 절차 \n",
    "import json\n",
    "from pprint import pprint\n",
    "\n",
    "url= 'https://www.haeundae.go.kr/pet/?param=adoptionnews&tab=2'\n",
    "\n",
    "req_header = {\n",
    "    \"user-agent\": \"Mozilla/5.0 (Windows NT 10.0; Win64; x64) AppleWebKit/537.36 (KHTML, like Gecko) Chrome/138.0.0.0 Safari/537.36\"\n",
    "}\n",
    "\n",
    "Haeundae_info_list = []    \n",
    "\n",
    "res = requests.get(url, headers=req_header)\n",
    "\n",
    "if res.ok:\n",
    "    Haeundae_info_dict = dict() \n",
    "    soup = BeautifulSoup(res.text, \"html.parser\")\n",
    "    \n",
    "    #신청 전 공지사항\n",
    "    h_tags = soup.select_one('div.inner-title h5')\n",
    "    h_text = h_tags.get_text(separator=' ', strip=True)\n",
    "    Haeundae_info_dict['신청 전 공지사항'] = h_text\n",
    "\n",
    "    #공지사항 \n",
    "    notice_list = []\n",
    "    li_tags = soup.select('div.txt_wrap ul li')\n",
    "    for li in li_tags:  \n",
    "        combined_text = ' '.join(li.stripped_strings)\n",
    "        notice_list.append(combined_text)\n",
    "\n",
    "    Haeundae_info_dict['입양 전 확인사항'] = notice_list\n",
    "\n",
    "    #사이트링크\n",
    "    Haeundae_info_dict[\"사이트링크\"] = url\n",
    "\n",
    "\n",
    "    Haeundae_info_list.append(Haeundae_info_dict)\n",
    "\n",
    "else:\n",
    "    print(f\"요청 실패: {res.status_code}\")\n",
    "\n",
    "print(url)"
   ]
  },
  {
   "cell_type": "code",
   "execution_count": 15,
   "id": "593b2111",
   "metadata": {},
   "outputs": [],
   "source": [
    "with open('해운대구입양절차.json', 'w', encoding='utf-8') as f:\n",
    "    json.dump(Haeundae_info_list, f, ensure_ascii=False, indent=2)"
   ]
  }
 ],
 "metadata": {
  "kernelspec": {
   "display_name": "base",
   "language": "python",
   "name": "python3"
  },
  "language_info": {
   "codemirror_mode": {
    "name": "ipython",
    "version": 3
   },
   "file_extension": ".py",
   "mimetype": "text/x-python",
   "name": "python",
   "nbconvert_exporter": "python",
   "pygments_lexer": "ipython3",
   "version": "3.12.7"
  }
 },
 "nbformat": 4,
 "nbformat_minor": 5
}
