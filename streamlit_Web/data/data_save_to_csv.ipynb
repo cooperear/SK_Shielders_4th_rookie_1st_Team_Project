{
 "cells": [
  {
   "cell_type": "code",
   "execution_count": 1,
   "id": "8c3d5993",
   "metadata": {},
   "outputs": [
    {
     "name": "stderr",
     "output_type": "stream",
     "text": [
      "2025-07-31 23:51:35.903 WARNING streamlit.runtime.caching.cache_data_api: No runtime found, using MemoryCacheStorageManager\n",
      "2025-07-31 23:51:35.904 WARNING streamlit.runtime.caching.cache_data_api: No runtime found, using MemoryCacheStorageManager\n",
      "2025-07-31 23:51:35.905 WARNING streamlit.runtime.caching.cache_data_api: No runtime found, using MemoryCacheStorageManager\n",
      "2025-07-31 23:51:35.907 WARNING streamlit.runtime.caching.cache_data_api: No runtime found, using MemoryCacheStorageManager\n",
      "2025-07-31 23:51:36.294 \n",
      "  \u001b[33m\u001b[1mWarning:\u001b[0m to view this Streamlit app on a browser, run it with the following\n",
      "  command:\n",
      "\n",
      "    streamlit run c:\\Users\\82103\\anaconda3\\Lib\\site-packages\\ipykernel_launcher.py [ARGUMENTS]\n",
      "2025-07-31 23:51:36.297 No runtime found, using MemoryCacheStorageManager\n"
     ]
    },
    {
     "name": "stdout",
     "output_type": "stream",
     "text": [
      "CSV 파일 저장 완료!\n"
     ]
    }
   ],
   "source": [
    "import pandas as pd\n",
    "from data_manager import load_data\n",
    "\n",
    "# DB에서 데이터 로딩\n",
    "animals_df = load_data('animals')\n",
    "shelters_df = load_data('shelters')\n",
    "\n",
    "# CSV로 저장\n",
    "animals_df.to_csv('animals_data.csv', index=False, encoding='utf-8-sig')\n",
    "shelters_df.to_csv('shelters_data.csv', index=False, encoding='utf-8-sig')\n",
    "\n",
    "print(\"CSV 파일 저장 완료!\")"
   ]
  }
 ],
 "metadata": {
  "kernelspec": {
   "display_name": "base",
   "language": "python",
   "name": "python3"
  },
  "language_info": {
   "codemirror_mode": {
    "name": "ipython",
    "version": 3
   },
   "file_extension": ".py",
   "mimetype": "text/x-python",
   "name": "python",
   "nbconvert_exporter": "python",
   "pygments_lexer": "ipython3",
   "version": "3.12.7"
  }
 },
 "nbformat": 4,
 "nbformat_minor": 5
}
